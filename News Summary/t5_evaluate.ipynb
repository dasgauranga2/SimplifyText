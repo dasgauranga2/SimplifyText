{
 "cells": [
  {
   "cell_type": "code",
   "execution_count": 1,
   "metadata": {},
   "outputs": [],
   "source": [
    "import torch\n",
    "import torch.nn as nn\n",
    "import torch.optim as optim\n",
    "\n",
    "import torchtext\n",
    "from torchtext.data import Field, BucketIterator\n",
    "\n",
    "import numpy as np\n",
    "from torchtext import data\n",
    "\n",
    "import random\n",
    "import math\n",
    "import time\n",
    "\n",
    "from transformers import T5Model,T5Tokenizer"
   ]
  },
  {
   "cell_type": "code",
   "execution_count": 2,
   "metadata": {},
   "outputs": [],
   "source": [
    "tokenizer = T5Tokenizer.from_pretrained('t5-small')"
   ]
  },
  {
   "cell_type": "code",
   "execution_count": 3,
   "metadata": {},
   "outputs": [
    {
     "data": {
      "text/plain": [
       "32100"
      ]
     },
     "execution_count": 3,
     "metadata": {},
     "output_type": "execute_result"
    }
   ],
   "source": [
    "tokenizer.vocab_size"
   ]
  },
  {
   "cell_type": "code",
   "execution_count": 4,
   "metadata": {},
   "outputs": [
    {
     "name": "stdout",
     "output_type": "stream",
     "text": [
      "['▁Hello', '▁world', '▁how', '▁are', '▁you', '?']\n"
     ]
    }
   ],
   "source": [
    "tokens = tokenizer.tokenize('Hello world how are you?')\n",
    "\n",
    "print(tokens)"
   ]
  },
  {
   "cell_type": "code",
   "execution_count": 5,
   "metadata": {},
   "outputs": [
    {
     "name": "stdout",
     "output_type": "stream",
     "text": [
      "[8774, 296, 149, 33, 25, 58]\n"
     ]
    }
   ],
   "source": [
    "indexes = tokenizer.convert_tokens_to_ids(tokens)\n",
    "\n",
    "print(indexes)"
   ]
  },
  {
   "cell_type": "code",
   "execution_count": 6,
   "metadata": {},
   "outputs": [
    {
     "name": "stdout",
     "output_type": "stream",
     "text": [
      "<pad> </s> <pad> <unk>\n"
     ]
    }
   ],
   "source": [
    "init_token = tokenizer.pad_token\n",
    "eos_token = tokenizer.eos_token\n",
    "pad_token = tokenizer.pad_token\n",
    "unk_token = tokenizer.unk_token\n",
    "\n",
    "print(init_token, eos_token, pad_token, unk_token)"
   ]
  },
  {
   "cell_type": "code",
   "execution_count": 7,
   "metadata": {},
   "outputs": [
    {
     "name": "stdout",
     "output_type": "stream",
     "text": [
      "0 1 0 2\n"
     ]
    }
   ],
   "source": [
    "init_token_idx = tokenizer.convert_tokens_to_ids(init_token)\n",
    "eos_token_idx = tokenizer.convert_tokens_to_ids(eos_token)\n",
    "pad_token_idx = tokenizer.convert_tokens_to_ids(pad_token)\n",
    "unk_token_idx = tokenizer.convert_tokens_to_ids(unk_token)\n",
    "\n",
    "print(init_token_idx, eos_token_idx, pad_token_idx, unk_token_idx)"
   ]
  },
  {
   "cell_type": "code",
   "execution_count": 8,
   "metadata": {},
   "outputs": [
    {
     "name": "stdout",
     "output_type": "stream",
     "text": [
      "512\n"
     ]
    }
   ],
   "source": [
    "max_input_length = tokenizer.max_model_input_sizes['t5-small']\n",
    "\n",
    "print(max_input_length)"
   ]
  },
  {
   "cell_type": "code",
   "execution_count": 9,
   "metadata": {},
   "outputs": [],
   "source": [
    "def tokenize_and_cut(sentence):\n",
    "    tokens = tokenizer.tokenize(sentence) \n",
    "    tokens = tokens[:max_input_length-2]\n",
    "    return tokens"
   ]
  },
  {
   "cell_type": "code",
   "execution_count": 10,
   "metadata": {},
   "outputs": [
    {
     "name": "stderr",
     "output_type": "stream",
     "text": [
      "/home/gauranga/anaconda3/envs/pt/lib/python3.8/site-packages/torchtext/data/field.py:150: UserWarning: Field class will be retired soon and moved to torchtext.legacy. Please see the most recent release notes for further information.\n",
      "  warnings.warn('{} class will be retired soon and moved to torchtext.legacy. Please see the most recent release notes for further information.'.format(self.__class__.__name__), UserWarning)\n"
     ]
    }
   ],
   "source": [
    "SRC = Field(batch_first = True,\n",
    "          use_vocab = False,\n",
    "          tokenize = tokenize_and_cut,\n",
    "          preprocessing = tokenizer.convert_tokens_to_ids,\n",
    "          init_token = init_token_idx,\n",
    "          eos_token = eos_token_idx,\n",
    "          pad_token = pad_token_idx,\n",
    "          unk_token = unk_token_idx)\n",
    "\n",
    "TRG = Field(batch_first = True,\n",
    "          use_vocab = False,\n",
    "          tokenize = tokenize_and_cut,\n",
    "          preprocessing = tokenizer.convert_tokens_to_ids,\n",
    "          init_token = init_token_idx,\n",
    "          eos_token = eos_token_idx,\n",
    "          pad_token = pad_token_idx,\n",
    "          unk_token = unk_token_idx)"
   ]
  },
  {
   "cell_type": "code",
   "execution_count": 11,
   "metadata": {},
   "outputs": [],
   "source": [
    "fields = [('src', SRC), ('trg', TRG)]"
   ]
  },
  {
   "cell_type": "code",
   "execution_count": 12,
   "metadata": {},
   "outputs": [
    {
     "name": "stderr",
     "output_type": "stream",
     "text": [
      "/home/gauranga/anaconda3/envs/pt/lib/python3.8/site-packages/torchtext/data/example.py:68: UserWarning: Example class will be retired soon and moved to torchtext.legacy. Please see the most recent release notes for further information.\n",
      "  warnings.warn('Example class will be retired soon and moved to torchtext.legacy. Please see the most recent release notes for further information.', UserWarning)\n",
      "/home/gauranga/anaconda3/envs/pt/lib/python3.8/site-packages/torchtext/data/example.py:78: UserWarning: Example class will be retired soon and moved to torchtext.legacy. Please see the most recent release notes for further information.\n",
      "  warnings.warn('Example class will be retired soon and moved to torchtext.legacy. Please see the most recent release notes for further information.', UserWarning)\n"
     ]
    }
   ],
   "source": [
    "train_data = data.TabularDataset.splits(\n",
    "                path = '',\n",
    "                train = 'news_train.csv',\n",
    "                format = 'csv',\n",
    "                fields = fields,\n",
    "                skip_header = True)\n",
    "\n",
    "train_data , valid_data = train_data[0].split(split_ratio=0.98,\n",
    "                                             random_state = random.seed(1234))"
   ]
  },
  {
   "cell_type": "code",
   "execution_count": 13,
   "metadata": {},
   "outputs": [
    {
     "name": "stdout",
     "output_type": "stream",
     "text": [
      "86765\n",
      "1771\n"
     ]
    }
   ],
   "source": [
    "print(len(train_data.examples))\n",
    "print(len(valid_data.examples))"
   ]
  },
  {
   "cell_type": "code",
   "execution_count": 14,
   "metadata": {},
   "outputs": [
    {
     "name": "stdout",
     "output_type": "stream",
     "text": [
      "{'src': [662, 151, 130, 4792, 57, 3, 9, 1634, 53, 2412, 298, 1119, 12, 2269, 3, 9, 14421, 1463, 16, 3, 547, 107, 52, 9, 7, 3939, 30, 3, 189, 3589, 1135, 6, 3, 76, 17, 2046, 3, 5319, 1395, 107, 2095, 243, 5, 386, 13, 8, 8926, 130, 45, 8, 337, 384, 5, 8, 5415, 808, 286, 1084, 3, 547, 107, 52, 9, 7, 14421, 2478, 11, 3778, 7076, 15, 4283, 12, 43, 118, 2953, 57, 13809, 20735, 11, 2714, 12435, 6, 8, 2095, 974, 5], 'trg': [2412, 3154, 147, 662, 151, 16, 95, 31, 7, 3, 547, 107, 52, 9, 7, 3939]}\n"
     ]
    }
   ],
   "source": [
    "print(vars(train_data.examples[2000]))"
   ]
  },
  {
   "cell_type": "code",
   "execution_count": 15,
   "metadata": {},
   "outputs": [
    {
     "name": "stdout",
     "output_type": "stream",
     "text": [
      "['▁four', '▁people', '▁were', '▁killed', '▁by', '▁', 'a', '▁speed', 'ing', '▁train', '▁while', '▁trying', '▁to', '▁cross', '▁', 'a', '▁railway', '▁track', '▁in', '▁', 'hat', 'h', 'r', 'a', 's', '▁district', '▁on', '▁', 'th', 'urs', 'day', ',', '▁', 'u', 't', 'tar', '▁', 'pra', 'des', 'h', '▁police', '▁said', '.', '▁three', '▁of', '▁the', '▁victims', '▁were', '▁from', '▁the', '▁same', '▁family', '.', '▁the', '▁incident', '▁took', '▁place', '▁near', '▁', 'hat', 'h', 'r', 'a', 's', '▁railway', '▁station', '▁and', '▁prima', '▁faci', 'e', '▁appeared', '▁to', '▁have', '▁been', '▁caused', '▁by', '▁dense', '▁fog', '▁and', '▁poor', '▁visibility', ',', '▁the', '▁police', '▁added', '.']\n",
      "['▁train', '▁runs', '▁over', '▁four', '▁people', '▁in', '▁up', \"'\", 's', '▁', 'hat', 'h', 'r', 'a', 's', '▁district']\n"
     ]
    }
   ],
   "source": [
    "src_tokens = tokenizer.convert_ids_to_tokens(vars(train_data.examples[2000])['src'])\n",
    "trg_tokens = tokenizer.convert_ids_to_tokens(vars(train_data.examples[2000])['trg'])\n",
    "\n",
    "print(src_tokens)\n",
    "print(trg_tokens)"
   ]
  },
  {
   "cell_type": "code",
   "execution_count": 16,
   "metadata": {},
   "outputs": [
    {
     "name": "stderr",
     "output_type": "stream",
     "text": [
      "/home/gauranga/anaconda3/envs/pt/lib/python3.8/site-packages/torchtext/data/iterator.py:48: UserWarning: BucketIterator class will be retired soon and moved to torchtext.legacy. Please see the most recent release notes for further information.\n",
      "  warnings.warn('{} class will be retired soon and moved to torchtext.legacy. Please see the most recent release notes for further information.'.format(self.__class__.__name__), UserWarning)\n"
     ]
    }
   ],
   "source": [
    "device = torch.device('cuda')\n",
    "\n",
    "BATCH_SIZE = 32\n",
    "\n",
    "train_iterator, valid_iterator = BucketIterator.splits(\n",
    "                                 (train_data, valid_data), \n",
    "                                 batch_size = BATCH_SIZE,\n",
    "                                 device = device,\n",
    "                                 sort_key=lambda x: len(x.src))"
   ]
  },
  {
   "cell_type": "code",
   "execution_count": 17,
   "metadata": {},
   "outputs": [],
   "source": [
    "class T5Network(nn.Module):\n",
    "    def __init__(self):\n",
    "        \n",
    "        super().__init__()\n",
    "        \n",
    "        self.t5 = T5Model.from_pretrained('t5-small')\n",
    "        \n",
    "        self.out = nn.Linear(self.t5.config.to_dict()['d_model'],\n",
    "                             self.t5.config.to_dict()['vocab_size'])\n",
    "                \n",
    "    def forward(self, src, trg):\n",
    "        \n",
    "        embedded = self.t5(input_ids=src,decoder_input_ids=trg) \n",
    "        \n",
    "        output = self.out(embedded[0])\n",
    "        \n",
    "        return output"
   ]
  },
  {
   "cell_type": "code",
   "execution_count": 18,
   "metadata": {},
   "outputs": [
    {
     "name": "stderr",
     "output_type": "stream",
     "text": [
      "Some weights of T5Model were not initialized from the model checkpoint at t5-small and are newly initialized: ['encoder.embed_tokens.weight', 'decoder.embed_tokens.weight']\n",
      "You should probably TRAIN this model on a down-stream task to be able to use it for predictions and inference.\n"
     ]
    }
   ],
   "source": [
    "model = T5Network().cuda()"
   ]
  },
  {
   "cell_type": "code",
   "execution_count": 19,
   "metadata": {},
   "outputs": [
    {
     "name": "stdout",
     "output_type": "stream",
     "text": [
      "The model has 76,988,544 trainable parameters\n"
     ]
    }
   ],
   "source": [
    "def count_parameters(model):\n",
    "    return sum(p.numel() for p in model.parameters() if p.requires_grad)\n",
    "\n",
    "print(f'The model has {count_parameters(model):,} trainable parameters')"
   ]
  },
  {
   "cell_type": "code",
   "execution_count": 20,
   "metadata": {},
   "outputs": [],
   "source": [
    "# CONVERT ALL MODEL WEIGHTS AND BIASES TO HALF PRECISION\n",
    "# MODEL SIZE WILL REDUCE\n",
    "model = model.half()"
   ]
  },
  {
   "cell_type": "code",
   "execution_count": 21,
   "metadata": {},
   "outputs": [
    {
     "data": {
      "text/plain": [
       "<All keys matched successfully>"
      ]
     },
     "execution_count": 21,
     "metadata": {},
     "output_type": "execute_result"
    }
   ],
   "source": [
    "model.load_state_dict(torch.load('t5_summ_model_3.pt'))"
   ]
  },
  {
   "cell_type": "code",
   "execution_count": null,
   "metadata": {},
   "outputs": [],
   "source": []
  },
  {
   "cell_type": "code",
   "execution_count": null,
   "metadata": {},
   "outputs": [],
   "source": []
  },
  {
   "cell_type": "code",
   "execution_count": null,
   "metadata": {},
   "outputs": [],
   "source": []
  },
  {
   "cell_type": "code",
   "execution_count": null,
   "metadata": {},
   "outputs": [],
   "source": []
  },
  {
   "cell_type": "code",
   "execution_count": 22,
   "metadata": {},
   "outputs": [],
   "source": [
    "def translate_sentence2(sentence, eval_model, device, max_len = 50):\n",
    "    \n",
    "    eval_model.eval()\n",
    "\n",
    "    src_indexes = [init_token_idx] + sentence + [eos_token_idx]\n",
    "\n",
    "    src_tensor = torch.LongTensor(src_indexes).unsqueeze(0).to(device)\n",
    "\n",
    "    trg_indexes = [init_token_idx]\n",
    "\n",
    "    for i in range(max_len):\n",
    "\n",
    "        trg_tensor = torch.LongTensor(trg_indexes).unsqueeze(0).to(device)\n",
    "        \n",
    "        with torch.no_grad():\n",
    "            output = eval_model(src_tensor, trg_tensor)\n",
    "        \n",
    "        pred_token = output.argmax(2)[:,-1].item()\n",
    "        \n",
    "        trg_indexes.append(pred_token)\n",
    "\n",
    "        if pred_token == eos_token_idx:\n",
    "            break\n",
    "\n",
    "    return trg_indexes[1:]"
   ]
  },
  {
   "cell_type": "code",
   "execution_count": null,
   "metadata": {},
   "outputs": [],
   "source": []
  },
  {
   "cell_type": "code",
   "execution_count": null,
   "metadata": {},
   "outputs": [],
   "source": []
  },
  {
   "cell_type": "code",
   "execution_count": 23,
   "metadata": {},
   "outputs": [
    {
     "name": "stdout",
     "output_type": "stream",
     "text": [
      "SRC : ▁previous▁indian▁presidents▁had▁various▁professions,▁the▁most▁being▁teachers▁and▁lawyers,▁before▁being▁elected.▁india's▁first▁president,▁rajendra▁prasad,▁was▁a▁teacher▁and▁lawyer▁before▁becoming▁president.▁kr▁narayanan▁and▁current▁president▁pranab▁mukherjee▁were▁journalists▁before.▁further,▁apj▁abdul▁kalam▁was▁a▁scientist▁and▁administrator▁at▁defence▁research▁and▁development▁organisation▁(drdo).\n",
      "PRED : ▁previous▁indian▁presidents▁had▁different▁professions▁before▁becoming▁prez</s>\n",
      "\n",
      "SRC : ▁cricket▁advisory▁committee▁(cac)▁member▁sourav▁ganguly▁has▁said▁zaheer▁khan▁will▁spend▁150▁days▁a▁year▁with▁the▁indian▁team▁as▁overseas▁bowling▁consultant.▁zaheer▁reportedly▁did▁not▁wish▁to▁commit▁for▁more▁than▁100▁days▁annually,▁but▁gave▁in▁to▁the▁cricket▁advisory▁committee's▁insistence.▁zaheer▁is▁expected▁to▁accompany▁the▁team▁for▁the▁sri▁lanka▁tour.\n",
      "PRED : ▁zaheer▁to▁spend▁150▁days▁a▁year▁with▁team▁as▁overseas▁bowling▁consultant</s>\n",
      "\n",
      "SRC : ▁speaking▁at▁the▁india-korea▁business▁summit▁on▁tuesday,▁prime▁minister▁narendra▁modi▁said▁that▁the▁centre▁was▁working▁towards▁transforming▁india▁from▁an▁\"old▁civilisation▁to▁a▁modern▁society,▁an▁informal▁economy▁to▁a▁formal▁economy\".▁he▁added▁that▁india▁is▁one▁of▁the▁few▁countries▁which▁possesses▁all▁three▁factors▁of▁the▁economyâ<unk>▁democracy,▁demography,▁and▁demand.\n",
      "PRED : ▁govt▁working▁to▁transform▁india▁from▁old▁civilisation▁to▁formal:▁pm</s>\n",
      "\n",
      "SRC : ▁former▁samta▁party▁leader▁jaya▁jaitly▁has▁released▁a▁letter▁allegedly▁written▁by▁congress▁president▁sonia▁gandhi▁in▁2004,▁asking▁the▁then▁finance▁minister▁p▁chidambaram▁to▁look▁into▁the▁probe▁against▁tehelka▁magazine's▁financiers▁\"on▁priority.\"▁while▁releasing▁the▁letter,▁jaitly▁claimed▁that▁congress▁benefited▁from▁the▁tehelka▁sting▁that▁exposed▁corruption▁during▁former▁pm▁atal▁bihari's▁tenure.\n",
      "PRED : ▁look▁into▁tehelka▁probe▁on▁priority:▁jaitly▁to▁chidambaram</s>\n",
      "\n",
      "SRC : ▁passengers▁were▁told▁to▁\"jump\"▁onto▁the▁tarmac▁from▁emergency▁exit▁windows▁after▁a▁threatening▁note▁was▁found▁in▁the▁bathroom▁of▁a▁virgin▁airlines▁flight.▁the▁crew▁shouted,▁\"leave▁all▁your▁belongings,▁jump\"▁and▁the▁68-seater▁plane▁was▁evacuated▁within▁five▁minutes.▁australian▁police▁arrested▁a▁male▁passenger▁for▁the▁note,▁which▁warned▁of▁'death▁or▁grievous▁bodily▁harm'.\n",
      "PRED : ▁passengers▁told▁to▁'jump'▁onto▁tarmac▁from▁emergency▁window</s>\n",
      "\n",
      "SRC : ▁premier▁league▁leaders▁manchester▁city▁extended▁the▁record▁run▁of▁consecutive▁top-flight▁wins▁to▁17▁matches▁by▁thrashing▁bournemouth▁4-0▁on▁saturday.▁with▁101▁goals▁in▁2017,▁city▁became▁the▁first▁english▁team▁since▁liverpool▁(106)▁in▁1982▁to▁score▁100-plus▁goals▁in▁the▁top▁flight▁in▁a▁calendar▁year.▁meanwhile,▁chelsea▁were▁held▁to▁a▁goalless▁draw▁by▁everton.\n",
      "PRED : ▁man▁city▁extend▁record▁run▁of▁straight▁top-flight▁wins▁to▁17▁games</s>\n",
      "\n",
      "SRC : ▁south▁korean▁pharmaceutical▁firm▁celltrion's▁market▁value▁has▁surged▁by▁$8▁billion▁to▁$34.4▁billion▁in▁just▁seven▁days.▁celltrion▁has▁replaced▁south▁korea's▁largest▁automaker▁hyundai▁motor▁to▁become▁the▁country's▁third-largest▁company▁by▁market▁capitalisation.▁samsung▁electronics▁is▁the▁most▁valuable▁company▁in▁south▁korea▁with▁a▁market▁capitalisation▁of▁about▁$330▁billion.\n",
      "PRED : ▁s▁korea's▁celltrion▁market▁value▁surges▁by▁$8▁billion▁in▁7▁days</s>\n",
      "\n",
      "SRC : ▁mcdonald's▁ended▁its▁41-year-old▁sponsorship▁of▁the▁olympic▁games▁three▁years▁early,▁the▁international▁olympic▁committee▁said▁on▁friday.▁the▁move▁reflects▁the▁rising▁olympic▁sponsorship▁costs▁and▁declining▁tv▁ratings.▁mcdonald's▁deal▁would▁have▁run▁through▁the▁tokyo▁olympics▁in▁2020,▁and▁bowing▁out▁is▁likely▁to▁save▁it▁hundreds▁of▁millions▁of▁dollars.\n",
      "PRED : ▁mcdonald's▁ends▁41-year-old▁olympics▁deal▁3▁years▁early</s>\n",
      "\n",
      "SRC : ▁calcium-48,▁a▁rare▁isotope▁of▁the▁element▁calcium,▁costs▁over▁â<unk>13.2▁crore▁for▁just▁2▁grams.▁the▁isotope,▁which▁makes▁up▁just▁0.187%▁of▁the▁naturally▁occurring▁calcium▁on▁earth,▁is▁extracted▁using▁atom-by-atom▁separation▁from▁normal▁calcium.▁the▁isotope▁is▁used▁in▁the▁synthesis▁of▁superheavy▁elements,▁which▁usually▁have▁very▁short▁half-lives.\n",
      "PRED : ▁rare▁isotope▁of▁the▁element▁cost▁â<unk>13.2▁crore▁for▁just▁2▁grams</s>\n",
      "\n",
      "SRC : ▁technology▁giant▁apple▁has▁partnered▁with▁lg▁display▁for▁the▁production▁of▁'foldable'▁iphones,▁according▁to▁reports.▁lg▁display▁already▁has▁a▁team▁working▁on▁foldable▁oled▁panels▁for▁apple▁to▁start▁production▁by▁2020,▁the▁reports▁added.▁lg▁has▁reportedly▁completed▁its▁own▁foldable▁oled▁panel▁prototype▁and▁has▁been▁upgrading▁its▁durability▁and▁yield▁rate.\n",
      "PRED : ▁apple▁partners▁with▁lg▁display▁for▁'foldable'▁iphones:▁reports</s>\n",
      "\n",
      "SRC : ▁traders'▁body▁cait▁met▁with▁commerce▁minister▁suresh▁prabhu▁on▁thursday▁to▁condemn▁the▁joint▁opposition▁by▁e-commerce▁giants▁amazon▁and▁flipkart▁of▁the▁recently▁revised▁fdi▁policy▁in▁e-commerce,▁calling▁it▁\"economic▁terrorism\".▁the▁delegation▁was▁led▁by▁cait▁secretary▁general▁praveen▁khandelwal.▁he▁said▁industry▁bodies▁like▁ficci▁and▁cii's▁reported▁support▁to▁the▁opposition▁was▁also▁regrettable.\n",
      "PRED : ▁traders'▁body▁cait▁condemns▁amazon,▁flipkart's▁'▁economic▁terrorism'</s>\n",
      "\n",
      "SRC : ▁eight-time▁olympic▁gold▁medalist▁usain▁bolt,▁who▁will▁run▁the▁last▁solo▁race▁of▁his▁career▁on▁saturday,▁won▁his▁first▁olympic▁gold▁wearing▁untied▁shoes.▁bolt▁clocked▁9.69▁seconds,▁a▁then▁world▁record,▁with▁his▁shoelaces▁untied,▁to▁win▁at▁the▁2008▁olympics.▁bolt's▁coach▁said▁he▁could▁have▁finished▁at▁9.52▁seconds,▁based▁on▁his▁opening▁60▁metres.\n",
      "PRED : ▁usain▁bolt▁wins▁his▁1st▁olympic▁gold▁wearing▁untied▁shoes</s>\n",
      "\n",
      "SRC : ▁sachin▁tendulkar▁has▁bought▁a▁stake▁in▁the▁new▁tamil▁nadu▁franchise▁of▁the▁pro▁kabaddi▁league.▁this▁is▁tendulkar's▁second▁investment▁in▁a▁sports▁team,▁with▁the▁player▁owning▁the▁kerala▁franchise▁in▁the▁indian▁super▁league.▁he▁teamed▁up▁with▁entrepreneur▁n▁prasad▁to▁buy▁the▁kabaddi▁team,▁which▁is▁among▁the▁four▁new▁franchises▁in▁the▁tournament.\n",
      "PRED : ▁tendulkar▁buys▁stake▁in▁pro▁kabaddi▁league's▁new▁tamil▁nadu▁franchise</s>\n",
      "\n",
      "SRC : ▁amid▁the▁ongoing▁rift▁in▁the▁aam▁aadmi▁party,▁delhi▁cm▁arvind▁kejriwal▁and▁deputy▁cm▁manish▁sisodia▁visited▁party▁leader▁kumar▁vishwas's▁residence▁in▁ghaziabad▁on▁tuesday▁night▁and▁asserted▁they▁are▁hopeful▁they▁will▁convince▁vishwas.▁\"he▁is▁an▁inseparable▁part▁of▁our▁movement.▁he▁is▁upset▁with▁us,\"▁said▁the▁aap▁convenor.\n",
      "PRED : ▁hope▁we'll▁convince▁vishwas:▁kejriwal,▁sisodia▁visit▁aap▁leader</s>\n",
      "\n",
      "SRC : ▁during▁his▁2001▁india▁visit,▁physicist▁stephen▁hawking▁had▁wanted▁to▁visit▁agra's▁taj▁mahal▁but▁could▁not▁after▁the▁archaeological▁survey▁of▁india▁(asi)▁dismissed▁requests▁for▁modifications▁to▁make▁it▁disabled-friendly.▁the▁asi▁decided▁to▁make▁50▁historical▁monuments▁including▁the▁taj▁mahal▁disabled-friendly▁in▁2016.▁hawking▁died▁aged▁76▁at▁his▁home▁in▁the▁uk▁on▁wednesday.\n",
      "PRED : ▁hawking▁couldn't▁make▁taj▁mahal▁disabled-friendly▁after▁asi</s>\n",
      "\n",
      "SRC : ▁a▁jawan▁of▁the▁indian▁army▁was▁martyred▁today▁morning,▁in▁an▁encounter▁with▁terrorists,▁in▁jammu▁and▁kashmir's▁nowgam▁sector.▁indian▁soldiers▁foiled▁an▁infiltration▁bid▁from▁the▁other▁side▁of▁the▁loc,▁which▁also▁resulted▁in▁the▁killing▁of▁two▁terrorists.▁this▁is▁the▁second▁infiltration▁attempt▁in▁less▁than▁24▁hours.\n",
      "PRED : ▁jawan▁martyred▁in▁encounter▁with▁terrorists▁in▁j&k</s>\n",
      "\n",
      "SRC : ▁brazilian▁legend▁and▁2002▁world▁cup▁winner▁ronaldinho▁once▁scored▁all▁the▁goals▁in▁his▁side's▁23-0▁victory▁in▁a▁local▁youth▁match.▁ronaldinho▁was▁aged▁13▁and▁was▁in▁fifth▁grade▁when▁he▁achieved▁the▁feat▁which▁helped▁him▁catch▁the▁attention▁of▁the▁media.▁later▁in▁an▁interview,▁ronaldinho▁called▁the▁players▁of▁the▁opposing▁team▁\"terrible\".\n",
      "PRED : ▁ronaldinho▁once▁scored▁all▁his▁goals▁in▁his▁side's▁23-0▁win</s>\n",
      "\n",
      "SRC : ▁filmmaker▁mani▁ratnam's▁son▁nandan▁was▁robbed▁in▁belluno,▁italy▁and▁his▁wife▁suhasini▁sought▁help▁on▁twitter▁for▁their▁son.▁she▁requested▁for▁help▁saying▁that▁her▁son▁needed▁to▁go▁to▁the▁airport.▁within▁an▁hour,▁she▁tweeted▁again▁that▁help▁arrived▁for▁nandan▁and▁thanked▁people▁for▁stepping▁in▁to▁help.\n",
      "PRED : ▁mani▁ratnam's▁son▁robbed▁in▁italy▁seeks▁help▁on▁twitter</s>\n",
      "\n",
      "SRC : ▁out▁of▁the▁â<unk>116,400▁crore▁collected▁as▁swachh▁bharat▁cess▁in▁the▁last▁two▁years,▁nearly▁25%▁remained▁unutilised,▁according▁to▁a▁comptroller▁and▁auditor▁general▁report.▁it▁also▁states▁the▁resources▁collected▁weren't▁distributed▁properly▁among▁urban▁and▁rural▁areas.▁the▁government▁collects▁0.5%▁swachh▁bharat▁cess▁on▁all▁services▁to▁fund▁cleanliness▁and▁sanitation▁schemes▁across▁the▁country.\n",
      "PRED : ▁25%▁of▁swachh▁bharat▁cess▁collected▁in▁2▁years▁remain▁unutilised</s>\n",
      "\n",
      "SRC : ▁former▁south▁african▁cricketer▁jonty▁rhodes,▁known▁for▁his▁acrobatic▁fielding,▁praised▁a▁ball▁boy▁who▁took▁a▁one-handed▁catch▁while▁sitting▁near▁the▁boundary▁in▁the▁first▁odi▁between▁india▁and▁new▁zealand▁on▁sunday.▁\"even▁the▁ball▁boys▁in▁mumbai▁are▁brilliant▁catchers▁#whatacatch,\"▁tweeted▁rhodes▁after▁witnessing▁the▁ball▁boy's▁catch.\n",
      "PRED : ▁jonty▁rhodes▁praises▁ball▁boy▁who▁took▁one-handed▁catch</s>\n",
      "\n"
     ]
    }
   ],
   "source": [
    "idxs = random.sample(range(0, len(valid_data.examples)), 20)\n",
    "for i in idxs:\n",
    "    src = vars(valid_data.examples[i])['src']\n",
    "    #trg = vars(valid_data.examples[i])['trg']\n",
    "    translation = translate_sentence2(src, model, device)\n",
    "\n",
    "    print(f\"SRC : {''.join(tokenizer.convert_ids_to_tokens(src))}\")\n",
    "    #print(f\"TRG : {''.join(tokenizer.convert_ids_to_tokens(trg))}\")\n",
    "    print(f\"PRED : {''.join(tokenizer.convert_ids_to_tokens(translation))}\\n\")"
   ]
  },
  {
   "cell_type": "code",
   "execution_count": null,
   "metadata": {},
   "outputs": [],
   "source": []
  },
  {
   "cell_type": "code",
   "execution_count": null,
   "metadata": {},
   "outputs": [],
   "source": []
  },
  {
   "cell_type": "code",
   "execution_count": 24,
   "metadata": {},
   "outputs": [],
   "source": [
    "def return_summary(txt):\n",
    "    txt_tokens = tokenizer.tokenize(txt)\n",
    "    txt_ids = tokenizer.convert_tokens_to_ids(txt_tokens)\n",
    "    pred = translate_sentence2(txt_ids, model, device)\n",
    "    pred_tokens = tokenizer.convert_ids_to_tokens(pred)\n",
    "    \n",
    "    return ''.join(pred_tokens)"
   ]
  },
  {
   "cell_type": "code",
   "execution_count": null,
   "metadata": {},
   "outputs": [],
   "source": []
  },
  {
   "cell_type": "code",
   "execution_count": null,
   "metadata": {},
   "outputs": [],
   "source": []
  },
  {
   "cell_type": "code",
   "execution_count": 25,
   "metadata": {},
   "outputs": [],
   "source": [
    "TEXT = \"the united nations confirmed tuesday that un secretary general kofi annan will hold a third round of talks with iraqi foreign minister naji sabri in vienna in early july .\""
   ]
  },
  {
   "cell_type": "code",
   "execution_count": 26,
   "metadata": {},
   "outputs": [
    {
     "data": {
      "text/plain": [
       "'▁un▁confirms▁kofi▁annan▁to▁hold▁3rd▁round▁of▁talks▁with▁iraqi</s>'"
      ]
     },
     "execution_count": 26,
     "metadata": {},
     "output_type": "execute_result"
    }
   ],
   "source": [
    "return_summary(TEXT)"
   ]
  },
  {
   "cell_type": "code",
   "execution_count": null,
   "metadata": {},
   "outputs": [],
   "source": []
  },
  {
   "cell_type": "code",
   "execution_count": null,
   "metadata": {},
   "outputs": [],
   "source": []
  }
 ],
 "metadata": {
  "kernelspec": {
   "display_name": "Python 3",
   "language": "python",
   "name": "python3"
  },
  "language_info": {
   "codemirror_mode": {
    "name": "ipython",
    "version": 3
   },
   "file_extension": ".py",
   "mimetype": "text/x-python",
   "name": "python",
   "nbconvert_exporter": "python",
   "pygments_lexer": "ipython3",
   "version": "3.8.5"
  }
 },
 "nbformat": 4,
 "nbformat_minor": 4
}
